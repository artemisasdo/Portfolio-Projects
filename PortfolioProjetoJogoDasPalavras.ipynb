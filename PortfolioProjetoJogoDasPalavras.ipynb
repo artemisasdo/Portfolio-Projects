{
 "cells": [
  {
   "cell_type": "code",
   "execution_count": 4,
   "id": "bcfd49f2",
   "metadata": {},
   "outputs": [
    {
     "name": "stdout",
     "output_type": "stream",
     "text": [
      "\n",
      "Bem-vindo(a) ao jogo das palavras!\n",
      "Adivinhe a palavra abaixo:\n",
      "\n",
      "_ _ _ _ _ _ _\n",
      "\n",
      "Chances restantes: 6\n",
      "Letras erradas: \n"
     ]
    },
    {
     "name": "stdout",
     "output_type": "stream",
     "text": [
      "_ _ _ a _ _ _\n",
      "\n",
      "Chances restantes: 6\n",
      "Letras erradas: \n",
      "m _ _ a _ _ _\n",
      "\n",
      "Chances restantes: 6\n",
      "Letras erradas: \n",
      "m o _ a _ _ o\n",
      "\n",
      "Chances restantes: 6\n",
      "Letras erradas: \n",
      "m o _ a n _ o\n",
      "\n",
      "Chances restantes: 6\n",
      "Letras erradas: \n",
      "m o _ a n g o\n",
      "\n",
      "Chances restantes: 6\n",
      "Letras erradas: \n",
      "m o _ a n g o\n",
      "\n",
      "Chances restantes: 5\n",
      "Letras erradas: x\n",
      "m o _ a n g o\n",
      "\n",
      "Chances restantes: 4\n",
      "Letras erradas: x y\n",
      "m o _ a n g o\n",
      "\n",
      "Chances restantes: 3\n",
      "Letras erradas: x y z\n"
     ]
    }
   ],
   "source": [
    "import random \n",
    "from os import system, name\n",
    "\n",
    "def limpa_tela():\n",
    "    if name == 'nt':\n",
    "        _ = system('cls')\n",
    "        \n",
    "def game():\n",
    "    limpa_tela()\n",
    "    print(\"\\nBem-vindo(a) ao jogo das palavras!\")\n",
    "    print(\"Adivinhe a palavra abaixo:\\n\")\n",
    "    \n",
    "    palavras = [\"banana\", \"abacate\", \"uva\", \"morango\", \"laranja\", \"romã\"]\n",
    "\n",
    "    palavra = random.choice(palavras)\n",
    "\n",
    "    letras_descobertas = ['_' for letra in palavra]\n",
    "\n",
    "    chances = 6\n",
    "\n",
    "    letras_erradas = []\n",
    "\n",
    "    while chances > 0:\n",
    "        \n",
    "        print (\" \".join(letras_descobertas))\n",
    "        print(\"\\nChances restantes:\", chances)\n",
    "        print(\"Letras erradas:\", \" \".join(letras_erradas))\n",
    "\n",
    "        tentativa = input(\"\\nDigite uma letra: \").lower()\n",
    "\n",
    "        if tentativa in palavra:\n",
    "            index = 0\n",
    "            for letra in palavra:\n",
    "                if tentativa == letra:\n",
    "                    letras_descobertas[index] = letra\n",
    "                index += 1\n",
    "        else: \n",
    "            chances -= 1\n",
    "            letras_erradas.append(tentativa)\n",
    "        \n",
    "        if \"_\" not in letras_descobertas:\n",
    "            print(\"\\nVocê venceu, a palavra era:\", palavra)\n",
    "            break\n",
    "        \n",
    "    if \"_\" in letras_descobertas:\n",
    "        print(\"\\nVocê perdeu, a palavra era:\", palavra)\n",
    "\n",
    "if __name__ == '__main__':\n",
    "    game()\n",
    "    print(\"\\nParabéns, você está aprendendo a programar.\")"
   ]
  },
  {
   "cell_type": "code",
   "execution_count": null,
   "id": "bb4086e1",
   "metadata": {},
   "outputs": [],
   "source": []
  }
 ],
 "metadata": {
  "kernelspec": {
   "display_name": "Python 3 (ipykernel)",
   "language": "python",
   "name": "python3"
  },
  "language_info": {
   "codemirror_mode": {
    "name": "ipython",
    "version": 3
   },
   "file_extension": ".py",
   "mimetype": "text/x-python",
   "name": "python",
   "nbconvert_exporter": "python",
   "pygments_lexer": "ipython3",
   "version": "3.11.7"
  }
 },
 "nbformat": 4,
 "nbformat_minor": 5
}
