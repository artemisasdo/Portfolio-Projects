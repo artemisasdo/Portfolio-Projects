{
 "cells": [
  {
   "cell_type": "code",
   "execution_count": 2,
   "id": "87d63c96",
   "metadata": {},
   "outputs": [],
   "source": [
    "# Projeto desenvolvido em Python, onde o objetivo é realizar uma análise de dados de venda de produtos, visando o monitoramento do faturamento e finalizando com a criação de tabelas para visualização dos dados obtidos."
   ]
  },
  {
   "cell_type": "code",
   "execution_count": null,
   "id": "1f16e344",
   "metadata": {},
   "outputs": [],
   "source": [
    "# A origem original dos dados retirados é: </https://colab.research.google.com/drive/1A16hsk-MKl6C8OHsOQZGtGqbug_2-6LGQ/>"
   ]
  },
  {
   "cell_type": "code",
   "execution_count": 1,
   "id": "ad8ee2bf",
   "metadata": {},
   "outputs": [
    {
     "ename": "FileNotFoundError",
     "evalue": "[WinError 3] O sistema não pode encontrar o caminho especificado: '/content/drive/MyDrive/Curso Básico de Python/Vendas'",
     "output_type": "error",
     "traceback": [
      "\u001b[1;31m---------------------------------------------------------------------------\u001b[0m",
      "\u001b[1;31mFileNotFoundError\u001b[0m                         Traceback (most recent call last)",
      "Cell \u001b[1;32mIn[1], line 6\u001b[0m\n\u001b[0;32m      3\u001b[0m \u001b[38;5;28;01mimport\u001b[39;00m \u001b[38;5;21;01mos\u001b[39;00m\n\u001b[0;32m      4\u001b[0m \u001b[38;5;28;01mimport\u001b[39;00m \u001b[38;5;21;01mpandas\u001b[39;00m \u001b[38;5;28;01mas\u001b[39;00m \u001b[38;5;21;01mpd\u001b[39;00m\n\u001b[1;32m----> 6\u001b[0m lista_arquivo \u001b[38;5;241m=\u001b[39m os\u001b[38;5;241m.\u001b[39mlistdir(\u001b[38;5;124m\"\u001b[39m\u001b[38;5;124m/content/drive/MyDrive/Curso Básico de Python/Vendas\u001b[39m\u001b[38;5;124m\"\u001b[39m)\n\u001b[0;32m      7\u001b[0m display(lista_arquivo)\n\u001b[0;32m      9\u001b[0m tabela_total \u001b[38;5;241m=\u001b[39m pd\u001b[38;5;241m.\u001b[39mDataFrame()\n",
      "\u001b[1;31mFileNotFoundError\u001b[0m: [WinError 3] O sistema não pode encontrar o caminho especificado: '/content/drive/MyDrive/Curso Básico de Python/Vendas'"
     ]
    }
   ],
   "source": [
    "# Primeiro passo, percorrer a base de dados\n",
    "\n",
    "import os\n",
    "import pandas as pd\n",
    "\n",
    "lista_arquivo = os.listdir(\"/content/drive/MyDrive/Curso Básico de Python/Vendas\")\n",
    "display(lista_arquivo)\n",
    "\n",
    "tabela_total = pd.DataFrame()\n",
    "\n",
    "# importar somente os dados voltados às vendas\n",
    "\n",
    "for arquivo in lista_arquivo:\n",
    "  # se tem \"Vendas\" no nome do arquivo, então\n",
    "  if \"Vendas\" in arquivo:\n",
    "    # importar o arquivo\n",
    "    tabela = pd.read_csv(f\"/content/drive/MyDrive/Curso Básico de Python/Vendas/{arquivo}\")\n",
    "    tabela_total = tabela_total.append(tabela)\n",
    "    "
   ]
  },
  {
   "cell_type": "code",
   "execution_count": null,
   "id": "4a9865a6",
   "metadata": {},
   "outputs": [],
   "source": [
    "# Segundo passo é realizar o tratamento dos dados\n",
    "\n",
    "display(tabela_total)\n",
    "\n",
    "# Calcular produtos mais vendidos\n",
    "\n",
    "tabela_produtos = tabela_total.groupby('Produto').sum()\n",
    "tabela_produtos = tabela_produtos[[\"Quantidade Vendida\"]].sort_values(by=\"Quantidade Vendida\", ascending=False)\n",
    "display(tabela_produtos)\n",
    "\n",
    "# Calcular faturamento\n",
    "\n",
    "tabela_total['Faturamento'] = tabela_total['Quantidade Vendida'] * tabela_total['Preco Unitario']\n",
    "\n",
    "tabela_faturamento = tabela_total.groupby('Produto').sum()\n",
    "tabela_faturamento = tabela_faturamento[[\"Faturamento\"]].sort_values(by=\"Faturamento\", ascending=False)\n",
    "display(tabela_faturamento)"
   ]
  },
  {
   "cell_type": "code",
   "execution_count": null,
   "id": "991f6872",
   "metadata": {},
   "outputs": [],
   "source": [
    "# Terceiro passo, realizar a visualização dos dados coletados\n",
    "\n",
    "tabela_lojas = tabela_total.groupby('Loja').sum()\n",
    "tabela_lojas = tabela_lojas[['Faturamento']]\n",
    "display(tabela_lojas)\n",
    "\n",
    "import plotly.express as px\n",
    "\n",
    "grafico = px.bar(tabela_lojas, x=tabela_lojas.index, y='Faturamento')\n",
    "grafico.show()\n",
    "\n",
    "# Último passo, passar as informações para os stakeholders!"
   ]
  }
 ],
 "metadata": {
  "kernelspec": {
   "display_name": "Python 3 (ipykernel)",
   "language": "python",
   "name": "python3"
  },
  "language_info": {
   "codemirror_mode": {
    "name": "ipython",
    "version": 3
   },
   "file_extension": ".py",
   "mimetype": "text/x-python",
   "name": "python",
   "nbconvert_exporter": "python",
   "pygments_lexer": "ipython3",
   "version": "3.11.5"
  }
 },
 "nbformat": 4,
 "nbformat_minor": 5
}
