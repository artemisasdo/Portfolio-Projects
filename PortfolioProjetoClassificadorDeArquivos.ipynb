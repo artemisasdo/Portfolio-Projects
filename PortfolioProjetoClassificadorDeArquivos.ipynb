{
 "cells": [
  {
   "cell_type": "code",
   "execution_count": 8,
   "id": "e5613724",
   "metadata": {},
   "outputs": [
    {
     "ename": "FileNotFoundError",
     "evalue": "[WinError 3] O sistema não pode encontrar o caminho especificado: 'C:\\\\Caminho\\\\Para\\\\Seu\\\\Diretorio\\\\De\\\\Origem'",
     "output_type": "error",
     "traceback": [
      "\u001b[1;31m---------------------------------------------------------------------------\u001b[0m",
      "\u001b[1;31mFileNotFoundError\u001b[0m                         Traceback (most recent call last)",
      "Cell \u001b[1;32mIn[8], line 31\u001b[0m\n\u001b[0;32m     28\u001b[0m diretorio_destino \u001b[38;5;241m=\u001b[39m \u001b[38;5;124mr\u001b[39m\u001b[38;5;124m'\u001b[39m\u001b[38;5;124mC:\u001b[39m\u001b[38;5;124m\\\u001b[39m\u001b[38;5;124mCaminho\u001b[39m\u001b[38;5;124m\\\u001b[39m\u001b[38;5;124mPara\u001b[39m\u001b[38;5;124m\\\u001b[39m\u001b[38;5;124mSeu\u001b[39m\u001b[38;5;124m\\\u001b[39m\u001b[38;5;124mDiretorio\u001b[39m\u001b[38;5;124m\\\u001b[39m\u001b[38;5;124mDe\u001b[39m\u001b[38;5;124m\\\u001b[39m\u001b[38;5;124mDestino\u001b[39m\u001b[38;5;124m'\u001b[39m\n\u001b[0;32m     30\u001b[0m \u001b[38;5;66;03m# Chama a função para classificar os arquivos\u001b[39;00m\n\u001b[1;32m---> 31\u001b[0m classificar_arquivos(diretorio_origem, diretorio_destino)\n",
      "Cell \u001b[1;32mIn[8], line 7\u001b[0m, in \u001b[0;36mclassificar_arquivos\u001b[1;34m(diretorio_origem, diretorio_destino)\u001b[0m\n\u001b[0;32m      5\u001b[0m \u001b[38;5;28;01mdef\u001b[39;00m \u001b[38;5;21mclassificar_arquivos\u001b[39m(diretorio_origem, diretorio_destino):\n\u001b[0;32m      6\u001b[0m     \u001b[38;5;66;03m# Listar todos os arquivos no diretório de origem\u001b[39;00m\n\u001b[1;32m----> 7\u001b[0m     arquivos \u001b[38;5;241m=\u001b[39m os\u001b[38;5;241m.\u001b[39mlistdir(diretorio_origem)\n\u001b[0;32m      9\u001b[0m     \u001b[38;5;28;01mfor\u001b[39;00m arquivo \u001b[38;5;129;01min\u001b[39;00m arquivos:\n\u001b[0;32m     10\u001b[0m         caminho_completo \u001b[38;5;241m=\u001b[39m os\u001b[38;5;241m.\u001b[39mpath\u001b[38;5;241m.\u001b[39mjoin(diretorio_origem, arquivo)\n",
      "\u001b[1;31mFileNotFoundError\u001b[0m: [WinError 3] O sistema não pode encontrar o caminho especificado: 'C:\\\\Caminho\\\\Para\\\\Seu\\\\Diretorio\\\\De\\\\Origem'"
     ]
    }
   ],
   "source": [
    "# Importar os pacotes necessários para a automoção\n",
    "import os\n",
    "import shutil\n",
    "\n",
    "def classificar_arquivos(diretorio_origem, diretorio_destino):\n",
    "    # Listar todos os arquivos no diretório de origem\n",
    "    arquivos = os.listdir(diretorio_origem)\n",
    "\n",
    "    for arquivo in arquivos:\n",
    "        caminho_completo = os.path.join(diretorio_origem, arquivo)\n",
    "\n",
    "        # Verifica se é um arquivo\n",
    "        if os.path.isfile(caminho_completo):\n",
    "            # Exemplo: move arquivos de texto para o diretório 'Textos'\n",
    "            if arquivo.lower().endswith('.txt'):\n",
    "                destino = os.path.join(diretorio_destino, 'Textos')\n",
    "                if not os.path.exists(destino):\n",
    "                    os.makedirs(destino)\n",
    "                shutil.move(caminho_completo, destino)\n",
    "\n",
    "            # Adicione mais condições e destinos conforme necessário\n",
    "\n",
    "if __name__ == \"__main__\":\n",
    "    # Diretório de origem (onde os arquivos estão atualmente)\n",
    "    diretorio_origem = r'C:\\Caminho\\Para\\Seu\\Diretorio\\De\\Origem'\n",
    "\n",
    "    # Diretório de destino (onde você quer classificar os arquivos)\n",
    "    diretorio_destino = r'C:\\Caminho\\Para\\Seu\\Diretorio\\De\\Destino'\n",
    "\n",
    "    # Chama a função para classificar os arquivos\n",
    "    classificar_arquivos(diretorio_origem, diretorio_destino)"
   ]
  },
  {
   "cell_type": "code",
   "execution_count": null,
   "id": "c9af454b",
   "metadata": {},
   "outputs": [],
   "source": []
  },
  {
   "cell_type": "code",
   "execution_count": null,
   "id": "e57d5672",
   "metadata": {},
   "outputs": [],
   "source": []
  }
 ],
 "metadata": {
  "kernelspec": {
   "display_name": "Python 3 (ipykernel)",
   "language": "python",
   "name": "python3"
  },
  "language_info": {
   "codemirror_mode": {
    "name": "ipython",
    "version": 3
   },
   "file_extension": ".py",
   "mimetype": "text/x-python",
   "name": "python",
   "nbconvert_exporter": "python",
   "pygments_lexer": "ipython3",
   "version": "3.11.5"
  }
 },
 "nbformat": 4,
 "nbformat_minor": 5
}
