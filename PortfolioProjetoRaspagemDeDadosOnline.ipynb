{
 "cells": [
  {
   "cell_type": "code",
   "execution_count": 12,
   "id": "187d36a7",
   "metadata": {},
   "outputs": [
    {
     "name": "stdout",
     "output_type": "stream",
     "text": [
      "Título: Gel de Limpeza Principia 2% Ácido Salicílico + 5% Glicerina com 350g\n",
      "Nenhum elemento de preço encontrado.\n"
     ]
    }
   ],
   "source": [
    "# Importar bibliotecas\n",
    "\n",
    "from selenium import webdriver\n",
    "from selenium.common.exceptions import TimeoutException\n",
    "from selenium.webdriver.common.by import By\n",
    "from selenium.webdriver.support.ui import WebDriverWait\n",
    "from selenium.webdriver.support import expected_conditions as EC\n",
    "from bs4 import BeautifulSoup\n",
    "\n",
    "URL = 'https://www.amazon.com.br/Limpeza-Principia-%C3%81cido-Salic%C3%ADlico-Glicerina/dp/B0B6LZ36XV?pd_rd_w=f9pY6&content-id=amzn1.sym.d597f617-62ec-4887-a197-5211c345ed5a&pf_rd_p=d597f617-62ec-4887-a197-5211c345ed5a&pf_rd_r=6ATJT54ZEJBBZBYY47XC&pd_rd_wg=0bmp6&pd_rd_r=c7262190-744c-4f7c-bbc4-37e5bd8d93a6&pd_rd_i=B0B6LZ36XV&psc=1&ref_=pd_bap_d_grid_rp_0_1_ec_pd_gwd_bag_pd_gw_rp_2_i'\n",
    "\n",
    "headers = {\n",
    "    \"User-Agent\": \"Mozilla/5.0 (Windows NT 10.0; Win64; x64) AppleWebKit/537.36 (KHTML, like Gecko) Chrome/122.0.0.0 Safari/537.36\"\n",
    "}\n",
    "\n",
    "driver = webdriver.Chrome()\n",
    "\n",
    "try:\n",
    "    # Navegar para a URL\n",
    "    driver.get(URL)\n",
    "\n",
    "    # Aguardar até que o título seja carregado (espera explícita)\n",
    "    WebDriverWait(driver, 10).until(EC.presence_of_element_located((By.ID, 'productTitle')))\n",
    "\n",
    "    # Obter o HTML atualizado após a execução do JavaScript\n",
    "    pagina = driver.page_source\n",
    "\n",
    "    # Continuar com o BeautifulSoup como antes\n",
    "    soup = BeautifulSoup(pagina, \"html.parser\")\n",
    "\n",
    "    # Encontrar o título\n",
    "    titulo_elemento = soup.find('span', {'id': 'productTitle'})\n",
    "    if titulo_elemento:\n",
    "        titulo = titulo_elemento.get_text().strip()\n",
    "        print(\"Título:\", titulo)\n",
    "    else:\n",
    "        print(\"Elemento com ID 'productTitle' não encontrado.\")\n",
    "\n",
    "    # Encontrar o preço\n",
    "    preco_elemento = soup.find('span', {'id': 'priceblock_ourprice'})\n",
    "    if not preco_elemento:\n",
    "        # Tentar encontrar um elemento alternativo\n",
    "        preco_elemento = soup.find('span', {'id': 'priceblock_dealprice'})\n",
    "\n",
    "    if preco_elemento:\n",
    "        preco = preco_elemento.get_text().strip()\n",
    "        print(\"Preço:\", preco)\n",
    "    else:\n",
    "        print(\"Nenhum elemento de preço encontrado.\")\n",
    "\n",
    "except TimeoutException:\n",
    "    print(\"Tempo de espera excedido. Verifique se a página foi totalmente carregada.\")\n",
    "finally:\n",
    "    # Fechar o navegador, mesmo em caso de exceção\n",
    "    driver.quit()"
   ]
  }
 ],
 "metadata": {
  "kernelspec": {
   "display_name": "Python 3 (ipykernel)",
   "language": "python",
   "name": "python3"
  },
  "language_info": {
   "codemirror_mode": {
    "name": "ipython",
    "version": 3
   },
   "file_extension": ".py",
   "mimetype": "text/x-python",
   "name": "python",
   "nbconvert_exporter": "python",
   "pygments_lexer": "ipython3",
   "version": "3.11.7"
  }
 },
 "nbformat": 4,
 "nbformat_minor": 5
}
