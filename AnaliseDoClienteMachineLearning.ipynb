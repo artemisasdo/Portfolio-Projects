{
 "cells": [
  {
   "cell_type": "code",
   "execution_count": 1,
   "id": "44d6514b",
   "metadata": {},
   "outputs": [],
   "source": [
    "# Projeto desenvolvido em Python, com dados fictícios de uma empresa de cartão de créditos. O desafio proposto era construir um código que realizasse a análise do perfil do cliente, prevendo suas ações futuras (se o cliente iria cancelar sua com a empresa ou mantê-la ativa). Foi utilizada lógica da programação e machine learning para desenvolvimento desse projeto."
   ]
  },
  {
   "cell_type": "code",
   "execution_count": null,
   "id": "9a04f095",
   "metadata": {},
   "outputs": [],
   "source": [
    "# Dados originais retirados em: </https://colab.research.google.com/corgiredirector?site=https%3A%2F%2Fwww.kaggle.com%2Fsakshigoyal7%2Fcredit-card-customers/>"
   ]
  },
  {
   "cell_type": "code",
   "execution_count": null,
   "id": "dba43856",
   "metadata": {},
   "outputs": [],
   "source": [
    "# Primeiro passo, importar os dados\n",
    "import pandas as pd\n",
    "\n",
    "tabela = pd.read_csv(\"/content/drive/MyDrive/Curso Analise de Dados/ClientesBanco.csv\", encoding=\"latin1\")\n",
    "tabela = tabela.drop(\"CLIENTNUM\", axis=1)\n",
    "display(tabela)"
   ]
  },
  {
   "cell_type": "code",
   "execution_count": null,
   "id": "ddd17c21",
   "metadata": {},
   "outputs": [],
   "source": [
    "# Segundo passo, tratar os dados\n",
    "\n",
    "tabela = tabela.dropna()\n",
    "display(tabela.info())\n",
    "\n",
    "display(tabela.describe().round(1))"
   ]
  },
  {
   "cell_type": "code",
   "execution_count": null,
   "id": "14066ace",
   "metadata": {},
   "outputs": [],
   "source": [
    "# Avaliar o perfil dos clientes que cancelaram sua conta\n",
    "\n",
    "qtde_categoria = tabela[\"Categoria\"].value_counts()\n",
    "display(qtde_categoria)\n",
    "\n",
    "qtde_categoria_perc = tabela[\"Categoria\"].value_counts(normalize=True)\n",
    "display(qtde_categoria_perc)"
   ]
  },
  {
   "cell_type": "code",
   "execution_count": null,
   "id": "d623556f",
   "metadata": {},
   "outputs": [],
   "source": [
    "# Visualizar os dados\n",
    "\n",
    "import plotly.express as px\n",
    "\n",
    "for coluna in tabela:\n",
    "  grafico = px.histogram(tabela, x=coluna, color=\"Categoria\")\n",
    "  grafico.show()"
   ]
  },
  {
   "cell_type": "code",
   "execution_count": null,
   "id": "20487a8f",
   "metadata": {},
   "outputs": [],
   "source": [
    "# Informações retiradas da análise\n",
    "\n",
    "Quanto mais produtos contratados um cliente tem, menor a chance dele cancelar;\n",
    "\n",
    "E quanto mais transações e quanto maior o valor de transação, menor a chance dele cancelar.\n",
    "\n",
    "Quanto maior a quantidade de contatos que a pessoa teve que fazer, maior a chance dela cancelar(!)"
   ]
  }
 ],
 "metadata": {
  "kernelspec": {
   "display_name": "Python 3 (ipykernel)",
   "language": "python",
   "name": "python3"
  },
  "language_info": {
   "codemirror_mode": {
    "name": "ipython",
    "version": 3
   },
   "file_extension": ".py",
   "mimetype": "text/x-python",
   "name": "python",
   "nbconvert_exporter": "python",
   "pygments_lexer": "ipython3",
   "version": "3.11.5"
  }
 },
 "nbformat": 4,
 "nbformat_minor": 5
}
