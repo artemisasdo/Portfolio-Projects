{
 "cells": [
  {
   "cell_type": "code",
   "execution_count": 27,
   "id": "8e005b34",
   "metadata": {},
   "outputs": [
    {
     "name": "stdout",
     "output_type": "stream",
     "text": [
      "Insira seu peso em quilos: 58\n",
      "Insira sua altura em metros: 1,65\n",
      "Seu índice de massa corporal é: 21.3\n",
      "Seu IMC está na faixa considerada saudável.\n"
     ]
    }
   ],
   "source": [
    "#IMC é a sigla para Índice de Massa Corpórea, parâmetro adotado pela Organização Mundial de Saúde para calcular o peso ideal de cada pessoa.\n",
    "#O índice é calculado da seguinte maneira: divide-se o peso do indivíduo pela sua altura e, então, divide-se o número resultado novamente pela altura. Diz-se que o indivíduo tem peso normal quando o resultado do IMC está entre 18,5 e 24,9.\n",
    "#Quer descobrir seu IMC? Insira seu peso e sua altura e compare com os índices da tabela. Importante: utilize ponto ao invés de vírgula.\n",
    "\n",
    "peso = float(input(\"Insira seu peso em quilos: \"))\n",
    "\n",
    "altura_str = input(\"Insira sua altura em metros: \")\n",
    "\n",
    "# Caso o indivíduo digitar vírgula ao invés de ponto na resposta referente à altura, é possível evitar esse erro:\n",
    "if ',' in altura_str:\n",
    "    altura_str = altura_str.replace(',', '.')\n",
    "\n",
    "# Para converter a string em float:    \n",
    "altura = float(altura_str)\n",
    "\n",
    "# Calcular o IMC\n",
    "IMC = (peso / altura) / altura\n",
    "\n",
    "# Realizando o cálculo do IMC e arredondar para os primeiros três números:\n",
    "IMC_arredondado = round(IMC, 1)\n",
    "\n",
    "# Feedback quanto ao IMC\n",
    "print(\"Seu índice de massa corporal é:\", IMC_arredondado)\n",
    "\n",
    "# Condicional que aponta se o IMC do indivíduo está dentro dos parâmetros recomendados ou não:\n",
    "if 18.5 <= IMC_arredondado <= 24.9:\n",
    "    print(\"Seu IMC está na faixa considerada saudável.\")\n",
    "else:\n",
    "    print(\"Seu IMC está fora da faixa considerada saudável.\")\n",
    "\n"
   ]
  },
  {
   "cell_type": "code",
   "execution_count": null,
   "id": "7cd62ea7",
   "metadata": {},
   "outputs": [],
   "source": []
  },
  {
   "cell_type": "code",
   "execution_count": null,
   "id": "84f91047",
   "metadata": {},
   "outputs": [],
   "source": []
  }
 ],
 "metadata": {
  "kernelspec": {
   "display_name": "Python 3 (ipykernel)",
   "language": "python",
   "name": "python3"
  },
  "language_info": {
   "codemirror_mode": {
    "name": "ipython",
    "version": 3
   },
   "file_extension": ".py",
   "mimetype": "text/x-python",
   "name": "python",
   "nbconvert_exporter": "python",
   "pygments_lexer": "ipython3",
   "version": "3.11.5"
  }
 },
 "nbformat": 4,
 "nbformat_minor": 5
}
